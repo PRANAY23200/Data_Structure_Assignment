{
 "cells": [
  {
   "cell_type": "markdown",
   "id": "4b53b30d-fb44-4acd-9239-10a67090829d",
   "metadata": {
    "tags": []
   },
   "source": [
    "# Python Data Structure Assignment"
   ]
  },
  {
   "cell_type": "markdown",
   "id": "a3e8d729-f4ab-4554-8145-dd07cfe55ba0",
   "metadata": {
    "jp-MarkdownHeadingCollapsed": true,
    "tags": []
   },
   "source": [
    "## Q1"
   ]
  },
  {
   "cell_type": "markdown",
   "id": "07a0947a-3dba-4986-97f4-9bb08ae5eb8a",
   "metadata": {},
   "source": [
    "* String slicing in Python allows you to access a substring or a part of the string using a colon ':' ."
   ]
  },
  {
   "cell_type": "code",
   "execution_count": 2,
   "id": "03c2d173-4773-41d4-8672-36e228028d62",
   "metadata": {},
   "outputs": [
    {
     "data": {
      "text/plain": [
       "'I am '"
      ]
     },
     "execution_count": 2,
     "metadata": {},
     "output_type": "execute_result"
    }
   ],
   "source": [
    "#Eg.1\n",
    "\n",
    "String = \"I am pranay\"\n",
    "String[0:5] #fifth item in the string is p and is exclusive."
   ]
  },
  {
   "cell_type": "code",
   "execution_count": 4,
   "id": "838d86f9-ba2b-4bd8-807e-662fe85f237f",
   "metadata": {},
   "outputs": [
    {
     "data": {
      "text/plain": [
       "'I am Ja'"
      ]
     },
     "execution_count": 4,
     "metadata": {},
     "output_type": "execute_result"
    }
   ],
   "source": [
    "#Eg.2\n",
    "\n",
    "String1 = \"I am Jason\"\n",
    "String1[:-3] # This examples excludes last three items using negative indexing."
   ]
  },
  {
   "cell_type": "code",
   "execution_count": 8,
   "id": "70589dcf-6032-4568-819c-ddd3495fd164",
   "metadata": {},
   "outputs": [
    {
     "data": {
      "text/plain": [
       "'Ia ie'"
      ]
     },
     "execution_count": 8,
     "metadata": {},
     "output_type": "execute_result"
    }
   ],
   "source": [
    "#Eg.3\n",
    "\n",
    "String2 = \"I am Mikey\"\n",
    "String2[0::2] #This examples uses a step function of 2 while the first staring index being 0 and the ending index being left empty so that it takes the whole string"
   ]
  },
  {
   "cell_type": "markdown",
   "id": "a6bd6ef9-20ab-4e31-81a7-ae4d802ff971",
   "metadata": {
    "jp-MarkdownHeadingCollapsed": true,
    "tags": []
   },
   "source": [
    "## Q2"
   ]
  },
  {
   "cell_type": "markdown",
   "id": "5968aa45-8c54-4495-bbb1-2945fddacfb7",
   "metadata": {},
   "source": [
    "- Ordered collection \n",
    "  - Lists maintain the order of elements as they are added. This means you can access elements by their position or index.\n",
    "- Heterogenous elements\n",
    "  - A list can contain elements of different types, including integers, floats, strings, and even other lists (nested lists)."
   ]
  },
  {
   "cell_type": "code",
   "execution_count": 2,
   "id": "16630db4-8050-4377-8f8a-a52fdcb2e481",
   "metadata": {},
   "outputs": [
    {
     "data": {
      "text/plain": [
       "3.23"
      ]
     },
     "execution_count": 2,
     "metadata": {},
     "output_type": "execute_result"
    }
   ],
   "source": [
    "#Eg. \n",
    "My_list = [1,3,\"pranay\",3.23,[5,6]]\n",
    "My_list[3]"
   ]
  },
  {
   "cell_type": "markdown",
   "id": "c0a5a868-279f-4693-b343-7037979bb1c3",
   "metadata": {},
   "source": [
    "-  Indexing and Slicing\n",
    "   -  Lists support indexing and slicing operations to access subsets of the list."
   ]
  },
  {
   "cell_type": "code",
   "execution_count": 12,
   "id": "e962b247-2643-4fcf-8899-ed5f7da079a2",
   "metadata": {},
   "outputs": [
    {
     "data": {
      "text/plain": [
       "[1, 3, 'pranay', 3.23]"
      ]
     },
     "execution_count": 12,
     "metadata": {},
     "output_type": "execute_result"
    }
   ],
   "source": [
    "#  Eg. \n",
    "My_list = [1,3,\"pranay\",3.23,[5,6]]\n",
    "My_list[0:4]"
   ]
  },
  {
   "cell_type": "markdown",
   "id": "799179de-d4a3-4d68-8ea7-ad15b42ebbfb",
   "metadata": {},
   "source": [
    "- Mutable\n",
    "  -  Lists can be modified after their creation, meaning you can change, add, or remove elements. \n",
    "- Dynamic Size\n",
    "  -  The size of a list can grow or shrink as needed, allowing for flexible storage of elements."
   ]
  },
  {
   "cell_type": "code",
   "execution_count": 14,
   "id": "9dfd5d7c-4841-42ad-b760-994f07a1f2a0",
   "metadata": {},
   "outputs": [
    {
     "data": {
      "text/plain": [
       "[1, 3, 'pranay', 3.23, [5, 6], 4]"
      ]
     },
     "execution_count": 14,
     "metadata": {},
     "output_type": "execute_result"
    }
   ],
   "source": [
    "#Eg. \n",
    "My_list = [1,3,\"pranay\",3.23,[5,6]]\n",
    "My_list.append(4) #adds 4 to the end of the list\n",
    "My_list"
   ]
  },
  {
   "cell_type": "markdown",
   "id": "a5863175-aab7-4c80-9953-fade36ffab92",
   "metadata": {},
   "source": [
    "-  Iteration\n",
    "   - Lists can be easily iterated over using loops."
   ]
  },
  {
   "cell_type": "code",
   "execution_count": 15,
   "id": "78021cea-792b-440b-8f71-b4141e006767",
   "metadata": {},
   "outputs": [
    {
     "name": "stdout",
     "output_type": "stream",
     "text": [
      "1\n",
      "3\n",
      "pranay\n",
      "3.23\n",
      "[5, 6]\n",
      "4\n"
     ]
    }
   ],
   "source": [
    "#Eg.\n",
    "for item in My_list:\n",
    "    print(item)\n"
   ]
  },
  {
   "cell_type": "markdown",
   "id": "ae15a4ed-886c-4406-82eb-d4ad2981a60a",
   "metadata": {
    "jp-MarkdownHeadingCollapsed": true,
    "tags": []
   },
   "source": [
    "## Q3"
   ]
  },
  {
   "cell_type": "markdown",
   "id": "d3ad3f65-8db9-4c7b-9413-249c000d0456",
   "metadata": {},
   "source": [
    "- Accesing, modifying and deleting items from the list"
   ]
  },
  {
   "cell_type": "code",
   "execution_count": 16,
   "id": "4fa0126a-94e9-48e8-9187-2c92e3c8da3e",
   "metadata": {},
   "outputs": [
    {
     "data": {
      "text/plain": [
       "3.23"
      ]
     },
     "execution_count": 16,
     "metadata": {},
     "output_type": "execute_result"
    }
   ],
   "source": [
    "#Eg. 1\n",
    "My_list[3] # This way can be used for accessing elements from the list."
   ]
  },
  {
   "cell_type": "code",
   "execution_count": 4,
   "id": "649bd6ec-9cb7-4884-95a0-4ecd5ac90f42",
   "metadata": {},
   "outputs": [
    {
     "data": {
      "text/plain": [
       "[1, 4, 'pranay', 3.23, [5, 6], 2, 2, 'hello', 'hello']"
      ]
     },
     "execution_count": 4,
     "metadata": {},
     "output_type": "execute_result"
    }
   ],
   "source": [
    "# Eg.2\n",
    "My_list[1] = 4 # usually used to replace the item/add the item at a particular index.\n",
    "My_list.insert(5,2) # .insert() is used to insert 2 at the 5th index.\n",
    "My_list\n",
    "My_list.append(\"hello\") #.append() can be used to insert items at the end of the list.\n",
    "My_list"
   ]
  },
  {
   "cell_type": "code",
   "execution_count": 34,
   "id": "1b88b728-9824-4c03-8863-a7423c4e6c89",
   "metadata": {},
   "outputs": [
    {
     "data": {
      "text/plain": [
       "[1, 3, 'pranay', 3.23, [5, 6]]"
      ]
     },
     "execution_count": 34,
     "metadata": {},
     "output_type": "execute_result"
    }
   ],
   "source": [
    "#Eg.3\n",
    "My_list.remove(2) #remove can be used to delete items from the list\n",
    "My_list\n",
    "My_list.pop() #removes last item from the list\n",
    "My_list"
   ]
  },
  {
   "cell_type": "markdown",
   "id": "567a7363-6258-467d-94c1-f707b8381eff",
   "metadata": {
    "jp-MarkdownHeadingCollapsed": true,
    "tags": []
   },
   "source": [
    "## Q4"
   ]
  },
  {
   "cell_type": "markdown",
   "id": "d0e056c0-13e7-4700-9bab-d19bf0479384",
   "metadata": {},
   "source": [
    "- Mutability\n",
    "  - Lists: Mutable, meaning you can change their content (add, remove, or modify elements).\n",
    "  - Tuples: Immutable, meaning once a tuple is created, it cannot be modified (no changes can be made to its elements)."
   ]
  },
  {
   "cell_type": "code",
   "execution_count": null,
   "id": "5316d27b-ce3b-44fc-9a2a-903389f8910f",
   "metadata": {},
   "outputs": [],
   "source": [
    "# List example\n",
    "My_list = [1, 2, 3]\n",
    "My_list[1] = 4       # Modifying an element\n",
    "print(my_list)       # Output: [1, 4, 3]\n",
    "\n",
    "# Tuple example\n",
    "My_tuple = (1, 2, 3)\n",
    "My_tuple[1] = 4    # This will raise a TypeError"
   ]
  },
  {
   "cell_type": "markdown",
   "id": "163a1311-c730-40b5-8659-d6b523c0153f",
   "metadata": {},
   "source": [
    "- Syntax\n",
    "  - Lists: Created using square brackets [ ].\n",
    "  - Tuples: Created using parentheses ( ).\n",
    "   "
   ]
  },
  {
   "cell_type": "code",
   "execution_count": 5,
   "id": "a3d5698a-497f-4cb5-988f-e5c7165b98be",
   "metadata": {},
   "outputs": [],
   "source": [
    "My_list = [1, 2, 3]\n",
    "My_tuple = (1, 2, 3)\n"
   ]
  },
  {
   "cell_type": "markdown",
   "id": "d993fa75-c124-4fc3-a69e-17e782f0655b",
   "metadata": {},
   "source": [
    "- Use Cases\n",
    "  - Lists: Used when you need a collection of items that can be modified. They are often used for storing collections of data that may change over    time.\n",
    "  - Tuples: Used for fixed collections of items. Ideal for grouping heterogeneous data (data of different types) and ensuring the data structure remains constant."
   ]
  },
  {
   "cell_type": "code",
   "execution_count": 6,
   "id": "7b5e0928-955d-4f85-aead-f6886af2cd62",
   "metadata": {},
   "outputs": [
    {
     "name": "stdout",
     "output_type": "stream",
     "text": [
      "['eggs', 'milk', 'bread', 'butter']\n"
     ]
    }
   ],
   "source": [
    "# List use case: a collection of items that may change\n",
    "shopping_list = [\"eggs\", \"milk\", \"bread\"]\n",
    "shopping_list.append(\"butter\")\n",
    "print(shopping_list)  # Output: [\"eggs\", \"milk\", \"bread\", \"butter\"]\n",
    "\n",
    "# Tuple use case: grouping heterogeneous data\n",
    "person_info = (\"Alice\", 30, \"Engineer\")"
   ]
  },
  {
   "cell_type": "markdown",
   "id": "a4f0fb02-05bc-4093-a180-72fa904471c4",
   "metadata": {},
   "source": [
    "- Performance\n",
    "  - Lists: Slower in terms of iteration and require more memory due to the overhead of dynamic resizing.\n",
    "  - Tuples: Faster iteration and less memory usage compared to lists because they are immutable and their size doesn't change.\n",
    "- Functionality\n",
    "  - Lists: Provide more built-in methods for manipulation (e.g., append(), remove(), sort(), reverse()).\n",
    "  - Tuples: Have fewer built-in methods due to immutability (mainly count() and index())."
   ]
  },
  {
   "cell_type": "code",
   "execution_count": null,
   "id": "86453266-bf1a-459c-ac3f-cfb25a048395",
   "metadata": {},
   "outputs": [],
   "source": [
    "# List methods\n",
    "my_list = [3, 1, 2]\n",
    "my_list.sort()\n",
    "print(my_list)  # Output: [1, 2, 3]\n",
    "\n",
    "# Tuple methods\n",
    "my_tuple = (3, 1, 2, 1)\n",
    "print(my_tuple.count(1))  # Output: 2\n",
    "print(my_tuple.index(2))  # Output: 2\n"
   ]
  },
  {
   "cell_type": "markdown",
   "id": "9ed35650-68a4-4be0-a064-89451fa933ca",
   "metadata": {
    "jp-MarkdownHeadingCollapsed": true,
    "tags": []
   },
   "source": [
    "## Q5"
   ]
  },
  {
   "cell_type": "markdown",
   "id": "0e40bfce-d358-453f-a857-bcfe1dd4ad5a",
   "metadata": {},
   "source": [
    "- Unordered Collection\n",
    "  - Sets do not maintain the order of elements. This means the order of items in a set may differ from the order in which they were added.\n",
    "- Mutable\n",
    "  - Sets are mutable, meaning you can add or remove elements after the set has been created."
   ]
  },
  {
   "cell_type": "code",
   "execution_count": null,
   "id": "60f92d59-ffa7-4344-b2dc-d8227fc0b37f",
   "metadata": {},
   "outputs": [],
   "source": [
    "my_set = {1, 2, 3}\n",
    "my_set.add(4)\n",
    "print(my_set)  # Output: {1, 2, 3, 4}"
   ]
  },
  {
   "cell_type": "markdown",
   "id": "9db361c3-fb69-4e5a-a126-01b9dc05db43",
   "metadata": {},
   "source": [
    "- No Duplicate Elements\n",
    "  - Sets automatically remove duplicate elements. If you try to add a duplicate, it will not be included in the set."
   ]
  },
  {
   "cell_type": "code",
   "execution_count": null,
   "id": "1b401cf9-8f07-4d2a-8f8a-7e91620ddb29",
   "metadata": {},
   "outputs": [],
   "source": [
    "my_set = {1, 2, 2, 3}\n",
    "print(my_set)  # Output: {1, 2, 3}"
   ]
  },
  {
   "cell_type": "markdown",
   "id": "2ccc1837-0b6f-47a4-bbe9-d0205844252c",
   "metadata": {},
   "source": [
    "- Set Operations\n",
    "  - Sets support mathematical operations such as union, intersection, difference, and symmetric difference, which are useful for handling collections of data."
   ]
  },
  {
   "cell_type": "code",
   "execution_count": null,
   "id": "6145a502-0b83-4f5b-9d0d-f0d0fba57ee8",
   "metadata": {},
   "outputs": [],
   "source": [
    "set1 = {1, 2, 3}\n",
    "set2 = {3, 4, 5}\n",
    "\n",
    "# Union: elements present in either set\n",
    "print(set1 | set2)  # Output: {1, 2, 3, 4, 5}\n",
    "\n",
    "# Intersection: elements present in both sets\n",
    "print(set1 & set2)  # Output: {3}\n",
    "\n",
    "# Difference: elements in set1 but not in set2\n",
    "print(set1 - set2)  # Output: {1, 2}\n",
    "\n",
    "# Symmetric Difference: elements in either set1 or set2, but not in both\n",
    "print(set1 ^ set2)  # Output: {1, 2, 4, 5}"
   ]
  },
  {
   "cell_type": "markdown",
   "id": "e43e6b83-0cf0-459b-83f2-7d0cf97ef4c1",
   "metadata": {},
   "source": [
    "- Performance\n",
    "  - Sets are optimized for membership testing, making it efficient to check if an item is in a set."
   ]
  },
  {
   "cell_type": "code",
   "execution_count": null,
   "id": "8a7c0533-16da-46c7-a2eb-f44fd16b2205",
   "metadata": {},
   "outputs": [],
   "source": [
    "my_set = {1, 2, 3}\n",
    "print(2 in my_set)  # Output: True\n",
    "print(4 in my_set)  # Output: False"
   ]
  },
  {
   "cell_type": "markdown",
   "id": "a8b36709-d6f5-43db-aeb1-40ca8d0ba5c6",
   "metadata": {},
   "source": [
    "- No Indexing\n",
    "  - Unlike lists and tuples, sets do not support indexing, slicing, or other sequence-like behavior because they are unordered."
   ]
  },
  {
   "cell_type": "code",
   "execution_count": null,
   "id": "94a9d03b-dc1b-4c5e-a28a-53f6c2ca28a5",
   "metadata": {},
   "outputs": [],
   "source": [
    "my_set = {1, 2, 3}\n",
    "print(my_set[0])  # This will raise a TypeError"
   ]
  },
  {
   "cell_type": "markdown",
   "id": "7ba0b5f7-67ca-46b3-b8b6-d1de26ff3af4",
   "metadata": {
    "jp-MarkdownHeadingCollapsed": true,
    "tags": []
   },
   "source": [
    "## Q6"
   ]
  },
  {
   "cell_type": "markdown",
   "id": "286324d1-8c14-4eab-b975-517256d40b40",
   "metadata": {
    "jp-MarkdownHeadingCollapsed": true,
    "tags": []
   },
   "source": [
    "### Use cases of Tuples"
   ]
  },
  {
   "cell_type": "markdown",
   "id": "80c4cb80-4172-48d5-996a-9335b72c1c23",
   "metadata": {},
   "source": [
    "- Immutable Data Grouping\n",
    "  - Tuples are ideal for grouping data that should not change throughout the program's execution."
   ]
  },
  {
   "cell_type": "code",
   "execution_count": 8,
   "id": "05bcfb9a-9ec5-48a3-b06f-4784d5cb0d83",
   "metadata": {},
   "outputs": [],
   "source": [
    "#Example\n",
    "point = (4, 5)\n",
    "rgb_color = (255, 0, 0)"
   ]
  },
  {
   "cell_type": "markdown",
   "id": "b4f0c206-cce8-45bf-a397-32bcd05651fa",
   "metadata": {},
   "source": [
    "- Heterogeneous Data Storage\n",
    "  - Tuples can store items of different data types, making them useful for representing simple data records."
   ]
  },
  {
   "cell_type": "code",
   "execution_count": null,
   "id": "1dfff79f-d54d-460e-a2b1-8c964d8f643c",
   "metadata": {},
   "outputs": [],
   "source": [
    "person_info = (\"Pranay\", 24, \"Student\", True)"
   ]
  },
  {
   "cell_type": "markdown",
   "id": "451eb560-f5d1-4be5-8180-9659beadb9cb",
   "metadata": {},
   "source": [
    "- Data Integrity and Safety\n",
    "  - When you want to ensure that data cannot be modified, using a tuple provides a clear signal to others reading the code that the data should remain constant.\n",
    "- Packing and Unpacking\n",
    "  - Tuples are often used in packing and unpacking operations, making it easier to assign multiple values at once."
   ]
  },
  {
   "cell_type": "code",
   "execution_count": null,
   "id": "68a39aa1-1766-472a-87dd-0845b496aba0",
   "metadata": {},
   "outputs": [],
   "source": [
    "a, b, c = (1, 2, 3) # assign multiple values at once."
   ]
  },
  {
   "cell_type": "markdown",
   "id": "55e054d6-2388-484c-9af4-65b52d2c796e",
   "metadata": {
    "jp-MarkdownHeadingCollapsed": true,
    "tags": []
   },
   "source": [
    "### Use cases for Sets"
   ]
  },
  {
   "cell_type": "markdown",
   "id": "a0a06c3d-d7c1-418d-95dc-e9ce2f3cb871",
   "metadata": {},
   "source": [
    "- Unique Element Storage\n",
    "  - Sets are perfect for storing unique items and automatically handle duplicates. This is useful in applications like data validation, where ensuring uniqueness is crucial."
   ]
  },
  {
   "cell_type": "code",
   "execution_count": null,
   "id": "750e7b5e-1df7-46b3-8c92-a745c5f0758e",
   "metadata": {},
   "outputs": [],
   "source": [
    "unique_words = set([\"apple\", \"banana\", \"apple\", \"orange\"])"
   ]
  },
  {
   "cell_type": "markdown",
   "id": "c7362963-f9f5-4afd-904d-498c651817fa",
   "metadata": {},
   "source": [
    "- Membership Testing\n",
    "  - Sets offer fast membership testing compared to lists, making them ideal for scenarios where you need to check if an element is present in a collection."
   ]
  },
  {
   "cell_type": "code",
   "execution_count": null,
   "id": "c08ce4c7-729a-408e-b9f9-2fb5a5cf2e05",
   "metadata": {},
   "outputs": [],
   "source": [
    "fruits = {\"apple\", \"banana\", \"orange\"}\n",
    "if \"banana\" in fruits:\n",
    "    print(\"Banana is available\")"
   ]
  },
  {
   "cell_type": "markdown",
   "id": "fa6ba25e-791f-42dc-b85c-3c32c980ad9c",
   "metadata": {},
   "source": [
    "- Set Operations (Union, Intersection, Difference)\n",
    "  - Sets support mathematical operations like union, intersection, and difference, which are useful for comparing and manipulating data sets."
   ]
  },
  {
   "cell_type": "code",
   "execution_count": null,
   "id": "20f48ab2-f74b-444c-8b30-7422bfcb59c3",
   "metadata": {},
   "outputs": [],
   "source": [
    "set1 = {1, 2, 3}\n",
    "set2 = {3, 4, 5}\n",
    "\n",
    "union_set = set1 | set2  # {1, 2, 3, 4, 5}"
   ]
  },
  {
   "cell_type": "markdown",
   "id": "870e8b04-a4db-4e53-a43d-3ce01bd1ac2c",
   "metadata": {
    "jp-MarkdownHeadingCollapsed": true,
    "tags": []
   },
   "source": [
    "## Q7"
   ]
  },
  {
   "cell_type": "markdown",
   "id": "360bc553-bf56-48d9-b010-af6cab28b2b9",
   "metadata": {},
   "source": [
    "- Adding Items to a Dictionary\n",
    "  - To add a new item, assign a value to a new key using the assignment operator (=). If the key already exists, this will update its value."
   ]
  },
  {
   "cell_type": "code",
   "execution_count": null,
   "id": "bf1bb5aa-17ed-41c0-9d71-99b40e2cb394",
   "metadata": {},
   "outputs": [],
   "source": [
    "# Creating an empty dictionary\n",
    "person = {}\n",
    "\n",
    "# Adding items\n",
    "person[\"name\"] = \"Pranay\"\n",
    "person[\"age\"] = 24\n",
    "person[\"city\"] = \"Naglok\"\n",
    "\n",
    "print(person)\n",
    "# Output: {'name': 'Pranay', 'age': 24, 'city': 'Naglok'}"
   ]
  },
  {
   "cell_type": "markdown",
   "id": "7630b38f-8ec8-4039-8868-2627e83f1291",
   "metadata": {},
   "source": [
    "- Modifying Items in a Dictionary\n",
    "  - To modify an existing item, simply assign a new value to the key you want to change. The key must already exist in the dictionary."
   ]
  },
  {
   "cell_type": "code",
   "execution_count": null,
   "id": "6fb09e33-0c58-4486-803b-5c17e4b8bb80",
   "metadata": {},
   "outputs": [],
   "source": [
    "person = {\n",
    "    \"name\": \"Pranay\",\n",
    "    \"age\": 24,\n",
    "    \"city\": \"Naglok\"\n",
    "}\n",
    "\n",
    "# Modifying the 'age' key\n",
    "person[\"age\"] = 26\n",
    "\n",
    "print(person)\n",
    "# Output: {'name': 'Pranay', 'age': 26, 'city': 'Naglok'}"
   ]
  },
  {
   "cell_type": "markdown",
   "id": "9b77d619-2e17-420b-90b0-7374850ee9dd",
   "metadata": {},
   "source": [
    "- Deleting Items from a Dictionary\n",
    "  - There are several ways to delete items from a dictionary."
   ]
  },
  {
   "cell_type": "code",
   "execution_count": null,
   "id": "e1b0d213-5127-4eb2-a9ee-45c45fe3c924",
   "metadata": {},
   "outputs": [],
   "source": [
    "# Using del keyword:\n",
    "person = {\n",
    "    \"name\": \"Pranay\",\n",
    "    \"age\": 24,\n",
    "    \"city\": \"Naglok\"\n",
    "}\n",
    "\n",
    "del person[\"city\"]\n",
    "\n",
    "print(person)\n",
    "# Output: {'name': 'Pranay', 'age': 24}\n",
    "\n",
    "# Using pop() method:\n",
    "age = person.pop(\"age\")\n",
    "print(age)     # Output: 24\n",
    "print(person)  # Output: {'name': 'Pranay'}\n",
    "\n",
    "# Using popitem() method:\n",
    "last_item = person.popitem()\n",
    "print(last_item)  # Output: ('name', 'Pranay')\n",
    "print(person)     # Output: {}\n",
    "\n",
    "# Using clear() method:\n",
    "person = {\n",
    "    \"name\": \"Pranay\",\n",
    "    \"age\": 24,\n",
    "    \"city\": \"Naglok\"\n",
    "}\n",
    "\n",
    "person.clear()\n",
    "print(person)  # Output: {}"
   ]
  },
  {
   "cell_type": "markdown",
   "id": "a0b453c4-dd7f-43ca-89b4-176db9da4c06",
   "metadata": {
    "jp-MarkdownHeadingCollapsed": true,
    "tags": []
   },
   "source": [
    "## Q8"
   ]
  },
  {
   "cell_type": "markdown",
   "id": "fe314b23-ea91-4f30-bb81-d2f0a4046e28",
   "metadata": {
    "jp-MarkdownHeadingCollapsed": true,
    "tags": []
   },
   "source": [
    "### Importance of Immutability in Dictionary Keys"
   ]
  },
  {
   "cell_type": "markdown",
   "id": "da43ec76-5740-4b0c-8a3f-90084c3904f5",
   "metadata": {},
   "source": [
    "- Consistency and Reliability:\n",
    "  - Using immutable keys ensures that once a key-value pair is inserted into the dictionary, the key can be reliably used to access the value. If keys were mutable and could change, the dictionary could not guarantee the correct mapping from key to value.\n",
    "- Efficiency:\n",
    "  - Immutability allows the dictionary to optimize its storage and lookup operations. If keys could change, the dictionary would need to constantly check and possibly rehash keys, leading to inefficiency and complexity.\n",
    "- Data Integrity:\n",
    "  - Immutability of keys ensures data integrity within the dictionary. If a key were mutable and changed after being used as a key, the corresponding value would effectively be lost, as the dictionary would not be able to locate the new hash of the key."
   ]
  },
  {
   "cell_type": "markdown",
   "id": "59a8b61d-3acc-493c-8b1b-9e634520872b",
   "metadata": {
    "jp-MarkdownHeadingCollapsed": true,
    "tags": []
   },
   "source": [
    "### Examples of Immutable keys"
   ]
  },
  {
   "cell_type": "markdown",
   "id": "d359f93f-1e17-435c-948a-02b9496ff275",
   "metadata": {},
   "source": [
    "- Strings: Commonly used as dictionary keys."
   ]
  },
  {
   "cell_type": "code",
   "execution_count": null,
   "id": "f02901fa-746a-4544-b8b1-90b9b20c63e9",
   "metadata": {},
   "outputs": [],
   "source": [
    "person = {\"name\": \"Ramesh\", \"age\": 30}"
   ]
  },
  {
   "cell_type": "markdown",
   "id": "2146b5f7-d0c6-4af8-ba7d-37b3ecfbb7e9",
   "metadata": {},
   "source": [
    "- Numbers: Integers and floats are immutable and can be used as keys."
   ]
  },
  {
   "cell_type": "code",
   "execution_count": null,
   "id": "f48ad862-f6e8-4cd2-a9fa-1452b134b19e",
   "metadata": {},
   "outputs": [],
   "source": [
    "counts = {1: \"one\", 2: \"two\", 3: \"three\"}"
   ]
  },
  {
   "cell_type": "markdown",
   "id": "6d12efbe-a7fe-4892-8693-5a9ca1a50145",
   "metadata": {},
   "source": [
    "- Tuples: Tuples can be used as keys if they contain only immutable elements."
   ]
  },
  {
   "cell_type": "code",
   "execution_count": null,
   "id": "7603f88b-7d86-41a9-a604-5321fb156d08",
   "metadata": {},
   "outputs": [],
   "source": [
    "coordinates = {(0, 0): \"origin\", (1, 0): \"x-axis\"}"
   ]
  }
 ],
 "metadata": {
  "kernelspec": {
   "display_name": "Python 3 (ipykernel)",
   "language": "python",
   "name": "python3"
  },
  "language_info": {
   "codemirror_mode": {
    "name": "ipython",
    "version": 3
   },
   "file_extension": ".py",
   "mimetype": "text/x-python",
   "name": "python",
   "nbconvert_exporter": "python",
   "pygments_lexer": "ipython3",
   "version": "3.10.8"
  }
 },
 "nbformat": 4,
 "nbformat_minor": 5
}
